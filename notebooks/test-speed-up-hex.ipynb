{
 "cells": [
  {
   "cell_type": "markdown",
   "metadata": {
    "janus": {
     "all_versions_showing": false,
     "cell_hidden": false,
     "current_version": 0,
     "id": "b1565f77ab1198",
     "named_versions": [],
     "output_hidden": false,
     "show_versions": false,
     "source_hidden": false,
     "versions": []
    }
   },
   "source": [
    "# ctdproc: test speed up hex"
   ]
  },
  {
   "cell_type": "code",
   "execution_count": 1,
   "metadata": {
    "janus": {
     "all_versions_showing": false,
     "cell_hidden": false,
     "current_version": 0,
     "id": "98d13f081ddfe",
     "named_versions": [],
     "output_hidden": false,
     "show_versions": false,
     "source_hidden": false,
     "versions": []
    }
   },
   "outputs": [],
   "source": [
    "import matplotlib.pyplot as plt\n",
    "import numpy as np\n",
    "import xarray as xr\n",
    "import pandas as pd\n",
    "from pathlib import Path\n",
    "import ctdproc as ctd\n",
    "\n",
    "\n",
    "%reload_ext autoreload\n",
    "%autoreload 2\n",
    "%config InlineBackend.figure_format = 'retina'\n",
    "\n",
    "xr.set_options(display_style=\"text\");"
   ]
  },
  {
   "cell_type": "code",
   "execution_count": 2,
   "metadata": {
    "janus": {
     "all_versions_showing": false,
     "cell_hidden": false,
     "current_version": 0,
     "id": "7599263cd229f",
     "named_versions": [],
     "output_hidden": false,
     "show_versions": false,
     "source_hidden": false,
     "versions": []
    }
   },
   "outputs": [],
   "source": [
    "pd.options.display.html.table_schema = True"
   ]
  },
  {
   "cell_type": "markdown",
   "metadata": {
    "janus": {
     "all_versions_showing": false,
     "cell_hidden": false,
     "current_version": 0,
     "id": "43283794c2da98",
     "named_versions": [],
     "output_hidden": false,
     "show_versions": false,
     "source_hidden": false,
     "versions": []
    }
   },
   "source": [
    "Path to example CTD file in .hex format. The corresponding xmlcon file needs to be in the same directory."
   ]
  },
  {
   "cell_type": "code",
   "execution_count": 3,
   "metadata": {
    "janus": {
     "all_versions_showing": false,
     "cell_hidden": false,
     "current_version": 0,
     "id": "dbdfa94e9027",
     "named_versions": [],
     "output_hidden": false,
     "show_versions": false,
     "source_hidden": false,
     "versions": []
    }
   },
   "outputs": [],
   "source": [
    "hexfile = Path('../ctdproc/tests/data/BLT_Test_001.hex')"
   ]
  },
  {
   "cell_type": "markdown",
   "metadata": {
    "janus": {
     "all_versions_showing": false,
     "cell_hidden": false,
     "current_version": 0,
     "id": "306c876eff57d8",
     "named_versions": [],
     "output_hidden": false,
     "show_versions": false,
     "source_hidden": false,
     "versions": []
    }
   },
   "source": [
    "Convert hex file using new code"
   ]
  },
  {
   "cell_type": "code",
   "execution_count": 4,
   "metadata": {
    "janus": {
     "all_versions_showing": false,
     "cell_hidden": false,
     "current_version": 0,
     "id": "e31c02e5dd152",
     "named_versions": [],
     "output_hidden": false,
     "show_versions": false,
     "source_hidden": false,
     "versions": []
    }
   },
   "outputs": [
    {
     "name": "stdout",
     "output_type": "stream",
     "text": [
      "CPU times: user 2.64 s, sys: 76 ms, total: 2.72 s\n",
      "Wall time: 2.72 s\n"
     ]
    },
    {
     "data": {
      "text/html": [
       "<pre>&lt;xarray.Dataset&gt; Size: 104B\n",
       "Dimensions:   ()\n",
       "Coordinates:\n",
       "    time      datetime64[ns] 8B 2019-11-06T18:27:27.666671\n",
       "Data variables:\n",
       "    lon       float64 8B -117.5\n",
       "    lat       float64 8B 32.62\n",
       "    p         float64 8B 192.3\n",
       "    t1        float64 8B 9.994\n",
       "    t2        float64 8B 9.995\n",
       "    c1        float64 8B 3.725\n",
       "    c2        float64 8B 3.726\n",
       "    alt       float64 8B 68.94\n",
       "    fl        float64 8B 0.005612\n",
       "    trans     float64 8B 93.56\n",
       "    par       float64 8B 0.08315\n",
       "    modcount  int64 8B 79</pre>"
      ],
      "text/plain": [
       "<xarray.Dataset> Size: 104B\n",
       "Dimensions:   ()\n",
       "Coordinates:\n",
       "    time      datetime64[ns] 8B 2019-11-06T18:27:27.666671\n",
       "Data variables:\n",
       "    lon       float64 8B -117.5\n",
       "    lat       float64 8B 32.62\n",
       "    p         float64 8B 192.3\n",
       "    t1        float64 8B 9.994\n",
       "    t2        float64 8B 9.995\n",
       "    c1        float64 8B 3.725\n",
       "    c2        float64 8B 3.726\n",
       "    alt       float64 8B 68.94\n",
       "    fl        float64 8B 0.005612\n",
       "    trans     float64 8B 93.56\n",
       "    par       float64 8B 0.08315\n",
       "    modcount  int64 8B 79"
      ]
     },
     "execution_count": 4,
     "metadata": {},
     "output_type": "execute_result"
    }
   ],
   "source": [
    "%%time\n",
    "c = ctd.io.CTDHex(hexfile)\n",
    "cx = c.to_xarray()\n",
    "# display set of data for one time stamp\n",
    "cx.isel(time=10000)"
   ]
  },
  {
   "cell_type": "markdown",
   "metadata": {},
   "source": [
    "Switch to `main` branch with old code"
   ]
  },
  {
   "cell_type": "code",
   "execution_count": 5,
   "metadata": {
    "janus": {
     "all_versions_showing": false,
     "cell_hidden": false,
     "current_version": 0,
     "id": "e31c02e5dd152",
     "named_versions": [],
     "output_hidden": false,
     "show_versions": false,
     "source_hidden": false,
     "versions": []
    }
   },
   "outputs": [
    {
     "name": "stdout",
     "output_type": "stream",
     "text": [
      "CPU times: user 3.85 s, sys: 35.9 ms, total: 3.89 s\n",
      "Wall time: 3.89 s\n"
     ]
    },
    {
     "data": {
      "text/html": [
       "<pre>&lt;xarray.Dataset&gt; Size: 104B\n",
       "Dimensions:   ()\n",
       "Coordinates:\n",
       "    time      datetime64[ns] 8B 2019-11-06T18:27:27.666671\n",
       "Data variables:\n",
       "    lon       float64 8B -117.5\n",
       "    lat       float64 8B 32.62\n",
       "    p         float64 8B 192.3\n",
       "    t1        float64 8B 9.994\n",
       "    t2        float64 8B 9.995\n",
       "    c1        float64 8B 3.725\n",
       "    c2        float64 8B 3.726\n",
       "    alt       float64 8B 75.0\n",
       "    fl        float64 8B 0.006105\n",
       "    trans     float64 8B 101.8\n",
       "    par       float64 8B 0.1222\n",
       "    modcount  int64 8B 79</pre>"
      ],
      "text/plain": [
       "<xarray.Dataset> Size: 104B\n",
       "Dimensions:   ()\n",
       "Coordinates:\n",
       "    time      datetime64[ns] 8B 2019-11-06T18:27:27.666671\n",
       "Data variables:\n",
       "    lon       float64 8B -117.5\n",
       "    lat       float64 8B 32.62\n",
       "    p         float64 8B 192.3\n",
       "    t1        float64 8B 9.994\n",
       "    t2        float64 8B 9.995\n",
       "    c1        float64 8B 3.725\n",
       "    c2        float64 8B 3.726\n",
       "    alt       float64 8B 75.0\n",
       "    fl        float64 8B 0.006105\n",
       "    trans     float64 8B 101.8\n",
       "    par       float64 8B 0.1222\n",
       "    modcount  int64 8B 79"
      ]
     },
     "execution_count": 5,
     "metadata": {},
     "output_type": "execute_result"
    }
   ],
   "source": [
    "%%time\n",
    "c = ctd.io.CTDHex(hexfile)\n",
    "cx = c.to_xarray()\n",
    "cx.isel(time=10000)"
   ]
  }
 ],
 "metadata": {
  "janus": {
   "filepaths": [
    [
     "cd68255b",
     1574963498803,
     1574982338830
    ],
    [
     "7d9fa009",
     1574982531846,
     1575011202499
    ],
    [
     "d37f56a0",
     1577192708258,
     1577192809710
    ],
    [
     "b1d25844",
     1577193054301,
     1586022074770
    ],
    [
     "b1fc1dc5",
     1586442282847,
     1586442479571
    ]
   ],
   "janus_markers": [],
   "track_history": true
  },
  "kernelspec": {
   "display_name": "Python [conda env:nesma]",
   "language": "python",
   "name": "conda-env-nesma-py"
  },
  "language_info": {
   "codemirror_mode": {
    "name": "ipython",
    "version": 3
   },
   "file_extension": ".py",
   "mimetype": "text/x-python",
   "name": "python",
   "nbconvert_exporter": "python",
   "pygments_lexer": "ipython3",
   "version": "3.12.6"
  },
  "toc": {
   "base_numbering": 1,
   "nav_menu": {},
   "number_sections": false,
   "sideBar": true,
   "skip_h1_title": true,
   "title_cell": "Table of Contents",
   "title_sidebar": "Contents",
   "toc_cell": false,
   "toc_position": {},
   "toc_section_display": true,
   "toc_window_display": false
  }
 },
 "nbformat": 4,
 "nbformat_minor": 4
}
